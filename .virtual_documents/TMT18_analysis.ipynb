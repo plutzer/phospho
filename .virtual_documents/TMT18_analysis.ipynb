import numpy as np
import pandas as pd
from matplotlib import pyplot as plt
import shephard


# Global variables for analysis

# Path of the txt folder
txt_path = '/Users/plutzer/Library/CloudStorage/Box-Box/CellBio-MajorLab/Users/Isaac/Experiments/009_CDKs_OXPO4/txt/'

# Path where outputs will go
output_folder_path = '/Users/plutzer/Library/CloudStorage/Box-Box/CellBio-MajorLab/Users/Isaac/Experiments/009_CDKs_OXPO4/analysis_output/'

# Other globals for analysis
# Experiment name to columns mapping
columns_mapping = {
    'Reporter intensity corrected 1 CDKs':'Ctrl 1',
    'Reporter intensity corrected 2 CDKs':'CDK2 1',
    'Reporter intensity corrected 3 CDKs':'Ctrl 2',
    'Reporter intensity corrected 4 CDKs':'CDK2 2',
    'Reporter intensity corrected 5 CDKs':'Ctrl 3',
    'Reporter intensity corrected 6 CDKs':'CDK2 3',
    'Reporter intensity corrected 7 CDKs':'CDK14 1',
    'Reporter intensity corrected 8 CDKs':'CDK16 1',
    'Reporter intensity corrected 9 CDKs':'CDK14 2',
    'Reporter intensity corrected 10 CDKs':'CDK16 2',
    'Reporter intensity corrected 11 CDKs':'CDK14 3',
    'Reporter intensity corrected 12 CDKs':'CDK16 3',
    'Reporter intensity corrected 13 CDKs':'CDK17 1',
    'Reporter intensity corrected 14 CDKs':'CDK18 1',
    'Reporter intensity corrected 15 CDKs':'CDK17 2',
    'Reporter intensity corrected 16 CDKs':'CDK18 2',
    'Reporter intensity corrected 17 CDKs':'CDK17 3',
    'Reporter intensity corrected 18 CDKs':'CDK18 3'
}

# Columns order for data tables
quant_cols_order = [
    'Ctrl 1',
    'Ctrl 2',
    'Ctrl 3',
    'CDK2 1',
    'CDK2 2',
    'CDK2 3',
    'CDK14 1',
    'CDK14 2',
    'CDK14 3',
    'CDK16 1',
    'CDK16 2',
    'CDK16 3',
    'CDK17 1',
    'CDK17 2',
    'CDK17 3',
    'CDK18 1',
    'CDK18 2',
    'CDK18 3'
]


# Functions

# Code for mixing correction:
def correct_mixing(dataset,columns):
    data = dataset[columns]
    sums = np.sum(data)
    corrected = data/(sums/np.mean(sums))
    return corrected




# Read in the phospho_data

phospho_path = txt_path + 'Phospho (STY)Sites.txt'

phospho_raw = pd.read_csv(phospho_path, sep='\t')


# Filter the phospho data
phospho =  phospho_raw[phospho_raw['Localization prob'] >= 0.75]
phospho = phospho[phospho['Reverse'] != '+']
phospho = phospho[phospho['Potential contaminant'] != '+']
# phospho


# Preprocess the phospho data

data = phospho.copy()

cols_list = []
non_quant_cols = []
for col in data.columns:
    if 'Reporter intensity corrected' in col:
        cols_list.append(col)
    elif 'Reporter intensity' in col:
        skip = True
    else:
        non_quant_cols.append(col)

quant_subset = data[cols_list]

non_quant_subset = data[non_quant_cols]

column_names = [col.split('__')[0] for col in quant_subset.columns if '__' in col]

quant_summarized = pd.DataFrame()

for column_name in set(column_names):
    # Filter columns with the current column name
    related_columns = [col for col in quant_subset.columns if col.startswith(column_name)]

    # Sum the related columns and store the result in the summarized DataFrame
    quant_summarized[column_name] = quant_subset[related_columns].sum(axis=1)
    
quant_summarized_mixCorrected = correct_mixing(quant_summarized,quant_summarized.columns)

quant_summarized_mixCorrected.rename(columns=columns_mapping, inplace=True)

quant_summarized_mixCorrected_ordered = quant_summarized_mixCorrected[quant_cols_order]


# combine the non_quant and quant_summarized_mixCorrected dataframes
combined = pd.concat([non_quant_subset,quant_summarized_mixCorrected_ordered],axis=1)

combined.columns



# Read in the protein data

pg_path = txt_path + 'proteinGroups.txt'

pg = pd.read_csv(pg_path, sep='\t')
pg



